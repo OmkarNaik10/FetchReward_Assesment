{
 "cells": [
  {
   "cell_type": "code",
   "execution_count": 1,
   "id": "e522138b",
   "metadata": {},
   "outputs": [],
   "source": [
    "import pandas as pd\n",
    "import json\n",
    "from datetime import datetime\n",
    "import numpy as np"
   ]
  },
  {
   "cell_type": "code",
   "execution_count": 3,
   "id": "d5974762",
   "metadata": {},
   "outputs": [],
   "source": [
    "df_users = pd.read_json('users.json',lines=True)"
   ]
  },
  {
   "cell_type": "code",
   "execution_count": 4,
   "id": "00b775af",
   "metadata": {},
   "outputs": [
    {
     "data": {
      "text/html": [
       "<div>\n",
       "<style scoped>\n",
       "    .dataframe tbody tr th:only-of-type {\n",
       "        vertical-align: middle;\n",
       "    }\n",
       "\n",
       "    .dataframe tbody tr th {\n",
       "        vertical-align: top;\n",
       "    }\n",
       "\n",
       "    .dataframe thead th {\n",
       "        text-align: right;\n",
       "    }\n",
       "</style>\n",
       "<table border=\"1\" class=\"dataframe\">\n",
       "  <thead>\n",
       "    <tr style=\"text-align: right;\">\n",
       "      <th></th>\n",
       "      <th>_id</th>\n",
       "      <th>active</th>\n",
       "      <th>createdDate</th>\n",
       "      <th>lastLogin</th>\n",
       "      <th>role</th>\n",
       "      <th>signUpSource</th>\n",
       "      <th>state</th>\n",
       "    </tr>\n",
       "  </thead>\n",
       "  <tbody>\n",
       "    <tr>\n",
       "      <th>0</th>\n",
       "      <td>{'$oid': '5ff1e194b6a9d73a3a9f1052'}</td>\n",
       "      <td>True</td>\n",
       "      <td>{'$date': 1609687444800}</td>\n",
       "      <td>{'$date': 1609687537858}</td>\n",
       "      <td>consumer</td>\n",
       "      <td>Email</td>\n",
       "      <td>WI</td>\n",
       "    </tr>\n",
       "    <tr>\n",
       "      <th>1</th>\n",
       "      <td>{'$oid': '5ff1e194b6a9d73a3a9f1052'}</td>\n",
       "      <td>True</td>\n",
       "      <td>{'$date': 1609687444800}</td>\n",
       "      <td>{'$date': 1609687537858}</td>\n",
       "      <td>consumer</td>\n",
       "      <td>Email</td>\n",
       "      <td>WI</td>\n",
       "    </tr>\n",
       "    <tr>\n",
       "      <th>2</th>\n",
       "      <td>{'$oid': '5ff1e194b6a9d73a3a9f1052'}</td>\n",
       "      <td>True</td>\n",
       "      <td>{'$date': 1609687444800}</td>\n",
       "      <td>{'$date': 1609687537858}</td>\n",
       "      <td>consumer</td>\n",
       "      <td>Email</td>\n",
       "      <td>WI</td>\n",
       "    </tr>\n",
       "    <tr>\n",
       "      <th>3</th>\n",
       "      <td>{'$oid': '5ff1e1eacfcf6c399c274ae6'}</td>\n",
       "      <td>True</td>\n",
       "      <td>{'$date': 1609687530554}</td>\n",
       "      <td>{'$date': 1609687530597}</td>\n",
       "      <td>consumer</td>\n",
       "      <td>Email</td>\n",
       "      <td>WI</td>\n",
       "    </tr>\n",
       "    <tr>\n",
       "      <th>4</th>\n",
       "      <td>{'$oid': '5ff1e194b6a9d73a3a9f1052'}</td>\n",
       "      <td>True</td>\n",
       "      <td>{'$date': 1609687444800}</td>\n",
       "      <td>{'$date': 1609687537858}</td>\n",
       "      <td>consumer</td>\n",
       "      <td>Email</td>\n",
       "      <td>WI</td>\n",
       "    </tr>\n",
       "  </tbody>\n",
       "</table>\n",
       "</div>"
      ],
      "text/plain": [
       "                                    _id  active               createdDate  \\\n",
       "0  {'$oid': '5ff1e194b6a9d73a3a9f1052'}    True  {'$date': 1609687444800}   \n",
       "1  {'$oid': '5ff1e194b6a9d73a3a9f1052'}    True  {'$date': 1609687444800}   \n",
       "2  {'$oid': '5ff1e194b6a9d73a3a9f1052'}    True  {'$date': 1609687444800}   \n",
       "3  {'$oid': '5ff1e1eacfcf6c399c274ae6'}    True  {'$date': 1609687530554}   \n",
       "4  {'$oid': '5ff1e194b6a9d73a3a9f1052'}    True  {'$date': 1609687444800}   \n",
       "\n",
       "                  lastLogin      role signUpSource state  \n",
       "0  {'$date': 1609687537858}  consumer        Email    WI  \n",
       "1  {'$date': 1609687537858}  consumer        Email    WI  \n",
       "2  {'$date': 1609687537858}  consumer        Email    WI  \n",
       "3  {'$date': 1609687530597}  consumer        Email    WI  \n",
       "4  {'$date': 1609687537858}  consumer        Email    WI  "
      ]
     },
     "execution_count": 4,
     "metadata": {},
     "output_type": "execute_result"
    }
   ],
   "source": [
    "df_users.head()"
   ]
  },
  {
   "cell_type": "code",
   "execution_count": 5,
   "id": "f6c9416d",
   "metadata": {},
   "outputs": [
    {
     "data": {
      "text/plain": [
       "(495, 7)"
      ]
     },
     "execution_count": 5,
     "metadata": {},
     "output_type": "execute_result"
    }
   ],
   "source": [
    "df_users.shape"
   ]
  },
  {
   "cell_type": "markdown",
   "id": "5a2f7d55",
   "metadata": {},
   "source": [
    "Here if you look at the data set it has 7 columns ie it has 7 feature. Also if you look carefully some features value has some data in data and it needs to be extracted. Example if you look at the '_id', 'createdDate', 'lastLogin'"
   ]
  },
  {
   "cell_type": "markdown",
   "id": "98504190",
   "metadata": {},
   "source": [
    "#  Lets Correct the _id column"
   ]
  },
  {
   "cell_type": "code",
   "execution_count": 6,
   "id": "40236707",
   "metadata": {},
   "outputs": [],
   "source": [
    "# Extract the '$oid' value from each dictionary in the '_id' column\n",
    "df_users['_id'] = df_users['_id'].apply(lambda x: x.get('$oid') if isinstance(x, dict) and '$oid' in x else None)\n",
    "\n",
    "# Rename '_id' to 'u_id'\n",
    "df_users.rename(columns={'_id': 'u_id'}, inplace=True)"
   ]
  },
  {
   "cell_type": "code",
   "execution_count": 7,
   "id": "1411c71e",
   "metadata": {},
   "outputs": [
    {
     "data": {
      "text/html": [
       "<div>\n",
       "<style scoped>\n",
       "    .dataframe tbody tr th:only-of-type {\n",
       "        vertical-align: middle;\n",
       "    }\n",
       "\n",
       "    .dataframe tbody tr th {\n",
       "        vertical-align: top;\n",
       "    }\n",
       "\n",
       "    .dataframe thead th {\n",
       "        text-align: right;\n",
       "    }\n",
       "</style>\n",
       "<table border=\"1\" class=\"dataframe\">\n",
       "  <thead>\n",
       "    <tr style=\"text-align: right;\">\n",
       "      <th></th>\n",
       "      <th>u_id</th>\n",
       "      <th>active</th>\n",
       "      <th>createdDate</th>\n",
       "      <th>lastLogin</th>\n",
       "      <th>role</th>\n",
       "      <th>signUpSource</th>\n",
       "      <th>state</th>\n",
       "    </tr>\n",
       "  </thead>\n",
       "  <tbody>\n",
       "    <tr>\n",
       "      <th>0</th>\n",
       "      <td>5ff1e194b6a9d73a3a9f1052</td>\n",
       "      <td>True</td>\n",
       "      <td>{'$date': 1609687444800}</td>\n",
       "      <td>{'$date': 1609687537858}</td>\n",
       "      <td>consumer</td>\n",
       "      <td>Email</td>\n",
       "      <td>WI</td>\n",
       "    </tr>\n",
       "    <tr>\n",
       "      <th>1</th>\n",
       "      <td>5ff1e194b6a9d73a3a9f1052</td>\n",
       "      <td>True</td>\n",
       "      <td>{'$date': 1609687444800}</td>\n",
       "      <td>{'$date': 1609687537858}</td>\n",
       "      <td>consumer</td>\n",
       "      <td>Email</td>\n",
       "      <td>WI</td>\n",
       "    </tr>\n",
       "    <tr>\n",
       "      <th>2</th>\n",
       "      <td>5ff1e194b6a9d73a3a9f1052</td>\n",
       "      <td>True</td>\n",
       "      <td>{'$date': 1609687444800}</td>\n",
       "      <td>{'$date': 1609687537858}</td>\n",
       "      <td>consumer</td>\n",
       "      <td>Email</td>\n",
       "      <td>WI</td>\n",
       "    </tr>\n",
       "    <tr>\n",
       "      <th>3</th>\n",
       "      <td>5ff1e1eacfcf6c399c274ae6</td>\n",
       "      <td>True</td>\n",
       "      <td>{'$date': 1609687530554}</td>\n",
       "      <td>{'$date': 1609687530597}</td>\n",
       "      <td>consumer</td>\n",
       "      <td>Email</td>\n",
       "      <td>WI</td>\n",
       "    </tr>\n",
       "    <tr>\n",
       "      <th>4</th>\n",
       "      <td>5ff1e194b6a9d73a3a9f1052</td>\n",
       "      <td>True</td>\n",
       "      <td>{'$date': 1609687444800}</td>\n",
       "      <td>{'$date': 1609687537858}</td>\n",
       "      <td>consumer</td>\n",
       "      <td>Email</td>\n",
       "      <td>WI</td>\n",
       "    </tr>\n",
       "  </tbody>\n",
       "</table>\n",
       "</div>"
      ],
      "text/plain": [
       "                       u_id  active               createdDate  \\\n",
       "0  5ff1e194b6a9d73a3a9f1052    True  {'$date': 1609687444800}   \n",
       "1  5ff1e194b6a9d73a3a9f1052    True  {'$date': 1609687444800}   \n",
       "2  5ff1e194b6a9d73a3a9f1052    True  {'$date': 1609687444800}   \n",
       "3  5ff1e1eacfcf6c399c274ae6    True  {'$date': 1609687530554}   \n",
       "4  5ff1e194b6a9d73a3a9f1052    True  {'$date': 1609687444800}   \n",
       "\n",
       "                  lastLogin      role signUpSource state  \n",
       "0  {'$date': 1609687537858}  consumer        Email    WI  \n",
       "1  {'$date': 1609687537858}  consumer        Email    WI  \n",
       "2  {'$date': 1609687537858}  consumer        Email    WI  \n",
       "3  {'$date': 1609687530597}  consumer        Email    WI  \n",
       "4  {'$date': 1609687537858}  consumer        Email    WI  "
      ]
     },
     "execution_count": 7,
     "metadata": {},
     "output_type": "execute_result"
    }
   ],
   "source": [
    "df_users.head()"
   ]
  },
  {
   "cell_type": "code",
   "execution_count": null,
   "id": "8cc23836",
   "metadata": {},
   "outputs": [],
   "source": []
  },
  {
   "cell_type": "markdown",
   "id": "748be211",
   "metadata": {},
   "source": [
    "# Lets Correct the createdDate, lastLogin column "
   ]
  },
  {
   "cell_type": "code",
   "execution_count": 19,
   "id": "ea739243",
   "metadata": {},
   "outputs": [],
   "source": [
    "date_columns = ['createdDate', 'lastLogin']\n",
    "\n",
    "for col in date_columns:\n",
    "    if col in df_users.columns:\n",
    "        df_users[col] = df_users[col].apply(lambda x: pd.to_datetime(x['$date']/1000, unit='s') if isinstance(x, dict) and '$date' in x else (pd.NaT if pd.isna(x) else x))\n",
    "\n"
   ]
  },
  {
   "cell_type": "code",
   "execution_count": 20,
   "id": "c7372d70",
   "metadata": {},
   "outputs": [
    {
     "data": {
      "text/html": [
       "<div>\n",
       "<style scoped>\n",
       "    .dataframe tbody tr th:only-of-type {\n",
       "        vertical-align: middle;\n",
       "    }\n",
       "\n",
       "    .dataframe tbody tr th {\n",
       "        vertical-align: top;\n",
       "    }\n",
       "\n",
       "    .dataframe thead th {\n",
       "        text-align: right;\n",
       "    }\n",
       "</style>\n",
       "<table border=\"1\" class=\"dataframe\">\n",
       "  <thead>\n",
       "    <tr style=\"text-align: right;\">\n",
       "      <th></th>\n",
       "      <th>u_id</th>\n",
       "      <th>active</th>\n",
       "      <th>createdDate</th>\n",
       "      <th>lastLogin</th>\n",
       "      <th>role</th>\n",
       "      <th>signUpSource</th>\n",
       "      <th>state</th>\n",
       "    </tr>\n",
       "  </thead>\n",
       "  <tbody>\n",
       "    <tr>\n",
       "      <th>0</th>\n",
       "      <td>5ff1e194b6a9d73a3a9f1052</td>\n",
       "      <td>True</td>\n",
       "      <td>2021-01-03 15:24:04.800000000</td>\n",
       "      <td>2021-01-03 15:25:37.858000128</td>\n",
       "      <td>consumer</td>\n",
       "      <td>Email</td>\n",
       "      <td>WI</td>\n",
       "    </tr>\n",
       "    <tr>\n",
       "      <th>1</th>\n",
       "      <td>5ff1e194b6a9d73a3a9f1052</td>\n",
       "      <td>True</td>\n",
       "      <td>2021-01-03 15:24:04.800000000</td>\n",
       "      <td>2021-01-03 15:25:37.858000128</td>\n",
       "      <td>consumer</td>\n",
       "      <td>Email</td>\n",
       "      <td>WI</td>\n",
       "    </tr>\n",
       "    <tr>\n",
       "      <th>2</th>\n",
       "      <td>5ff1e194b6a9d73a3a9f1052</td>\n",
       "      <td>True</td>\n",
       "      <td>2021-01-03 15:24:04.800000000</td>\n",
       "      <td>2021-01-03 15:25:37.858000128</td>\n",
       "      <td>consumer</td>\n",
       "      <td>Email</td>\n",
       "      <td>WI</td>\n",
       "    </tr>\n",
       "    <tr>\n",
       "      <th>3</th>\n",
       "      <td>5ff1e1eacfcf6c399c274ae6</td>\n",
       "      <td>True</td>\n",
       "      <td>2021-01-03 15:25:30.553999872</td>\n",
       "      <td>2021-01-03 15:25:30.596999936</td>\n",
       "      <td>consumer</td>\n",
       "      <td>Email</td>\n",
       "      <td>WI</td>\n",
       "    </tr>\n",
       "    <tr>\n",
       "      <th>4</th>\n",
       "      <td>5ff1e194b6a9d73a3a9f1052</td>\n",
       "      <td>True</td>\n",
       "      <td>2021-01-03 15:24:04.800000000</td>\n",
       "      <td>2021-01-03 15:25:37.858000128</td>\n",
       "      <td>consumer</td>\n",
       "      <td>Email</td>\n",
       "      <td>WI</td>\n",
       "    </tr>\n",
       "  </tbody>\n",
       "</table>\n",
       "</div>"
      ],
      "text/plain": [
       "                       u_id  active                   createdDate  \\\n",
       "0  5ff1e194b6a9d73a3a9f1052    True 2021-01-03 15:24:04.800000000   \n",
       "1  5ff1e194b6a9d73a3a9f1052    True 2021-01-03 15:24:04.800000000   \n",
       "2  5ff1e194b6a9d73a3a9f1052    True 2021-01-03 15:24:04.800000000   \n",
       "3  5ff1e1eacfcf6c399c274ae6    True 2021-01-03 15:25:30.553999872   \n",
       "4  5ff1e194b6a9d73a3a9f1052    True 2021-01-03 15:24:04.800000000   \n",
       "\n",
       "                      lastLogin      role signUpSource state  \n",
       "0 2021-01-03 15:25:37.858000128  consumer        Email    WI  \n",
       "1 2021-01-03 15:25:37.858000128  consumer        Email    WI  \n",
       "2 2021-01-03 15:25:37.858000128  consumer        Email    WI  \n",
       "3 2021-01-03 15:25:30.596999936  consumer        Email    WI  \n",
       "4 2021-01-03 15:25:37.858000128  consumer        Email    WI  "
      ]
     },
     "execution_count": 20,
     "metadata": {},
     "output_type": "execute_result"
    }
   ],
   "source": [
    "df_users.head()"
   ]
  },
  {
   "cell_type": "code",
   "execution_count": null,
   "id": "3152d898",
   "metadata": {},
   "outputs": [],
   "source": []
  },
  {
   "cell_type": "markdown",
   "id": "efd1ce85",
   "metadata": {},
   "source": [
    "#  Getting Insights from the data"
   ]
  },
  {
   "cell_type": "code",
   "execution_count": 21,
   "id": "1b9845bd",
   "metadata": {},
   "outputs": [
    {
     "data": {
      "text/plain": [
       "u_id             0\n",
       "active           0\n",
       "createdDate      0\n",
       "lastLogin       62\n",
       "role             0\n",
       "signUpSource    48\n",
       "state           56\n",
       "dtype: int64"
      ]
     },
     "execution_count": 21,
     "metadata": {},
     "output_type": "execute_result"
    }
   ],
   "source": [
    "df_users.isna().sum()"
   ]
  },
  {
   "cell_type": "code",
   "execution_count": 22,
   "id": "71010f20",
   "metadata": {},
   "outputs": [
    {
     "name": "stdout",
     "output_type": "stream",
     "text": [
      "<class 'pandas.core.frame.DataFrame'>\n",
      "RangeIndex: 495 entries, 0 to 494\n",
      "Data columns (total 7 columns):\n",
      " #   Column        Non-Null Count  Dtype         \n",
      "---  ------        --------------  -----         \n",
      " 0   u_id          495 non-null    object        \n",
      " 1   active        495 non-null    bool          \n",
      " 2   createdDate   495 non-null    datetime64[ns]\n",
      " 3   lastLogin     433 non-null    datetime64[ns]\n",
      " 4   role          495 non-null    object        \n",
      " 5   signUpSource  447 non-null    object        \n",
      " 6   state         439 non-null    object        \n",
      "dtypes: bool(1), datetime64[ns](2), object(4)\n",
      "memory usage: 23.8+ KB\n"
     ]
    }
   ],
   "source": [
    "df_users.info()"
   ]
  },
  {
   "cell_type": "code",
   "execution_count": 23,
   "id": "73068289",
   "metadata": {},
   "outputs": [
    {
     "data": {
      "text/plain": [
       "consumer       413\n",
       "fetch-staff     82\n",
       "Name: role, dtype: int64"
      ]
     },
     "execution_count": 23,
     "metadata": {},
     "output_type": "execute_result"
    }
   ],
   "source": [
    "df_users['role'].value_counts()"
   ]
  },
  {
   "cell_type": "code",
   "execution_count": 44,
   "id": "e892e87a",
   "metadata": {},
   "outputs": [
    {
     "data": {
      "text/plain": [
       "True     494\n",
       "False      1\n",
       "Name: active, dtype: int64"
      ]
     },
     "execution_count": 44,
     "metadata": {},
     "output_type": "execute_result"
    }
   ],
   "source": [
    "df_users['active'].value_counts()"
   ]
  },
  {
   "cell_type": "code",
   "execution_count": 24,
   "id": "e0e3da2e",
   "metadata": {},
   "outputs": [
    {
     "data": {
      "text/plain": [
       "WI    396\n",
       "NH     20\n",
       "AL     12\n",
       "OH      5\n",
       "IL      3\n",
       "KY      1\n",
       "CO      1\n",
       "SC      1\n",
       "Name: state, dtype: int64"
      ]
     },
     "execution_count": 24,
     "metadata": {},
     "output_type": "execute_result"
    }
   ],
   "source": [
    "df_users['state'].value_counts()"
   ]
  },
  {
   "cell_type": "code",
   "execution_count": 25,
   "id": "2e24b542",
   "metadata": {},
   "outputs": [
    {
     "data": {
      "text/plain": [
       "Email     443\n",
       "Google      4\n",
       "Name: signUpSource, dtype: int64"
      ]
     },
     "execution_count": 25,
     "metadata": {},
     "output_type": "execute_result"
    }
   ],
   "source": [
    "df_users['signUpSource'].value_counts()"
   ]
  },
  {
   "cell_type": "code",
   "execution_count": 26,
   "id": "e0eaae55",
   "metadata": {},
   "outputs": [],
   "source": [
    "## Get the duplicates\n",
    "\n",
    "duplicates = df_users.duplicated()"
   ]
  },
  {
   "cell_type": "code",
   "execution_count": 27,
   "id": "8f513004",
   "metadata": {},
   "outputs": [
    {
     "data": {
      "text/plain": [
       "0      False\n",
       "1       True\n",
       "2       True\n",
       "3      False\n",
       "4       True\n",
       "       ...  \n",
       "490     True\n",
       "491     True\n",
       "492     True\n",
       "493     True\n",
       "494     True\n",
       "Length: 495, dtype: bool"
      ]
     },
     "execution_count": 27,
     "metadata": {},
     "output_type": "execute_result"
    }
   ],
   "source": [
    "duplicates"
   ]
  },
  {
   "cell_type": "code",
   "execution_count": 28,
   "id": "1463e306",
   "metadata": {},
   "outputs": [],
   "source": [
    "duplicate_rows = df_users[df_users.duplicated()]\n"
   ]
  },
  {
   "cell_type": "code",
   "execution_count": 29,
   "id": "45591fcf",
   "metadata": {},
   "outputs": [
    {
     "data": {
      "text/html": [
       "<div>\n",
       "<style scoped>\n",
       "    .dataframe tbody tr th:only-of-type {\n",
       "        vertical-align: middle;\n",
       "    }\n",
       "\n",
       "    .dataframe tbody tr th {\n",
       "        vertical-align: top;\n",
       "    }\n",
       "\n",
       "    .dataframe thead th {\n",
       "        text-align: right;\n",
       "    }\n",
       "</style>\n",
       "<table border=\"1\" class=\"dataframe\">\n",
       "  <thead>\n",
       "    <tr style=\"text-align: right;\">\n",
       "      <th></th>\n",
       "      <th>u_id</th>\n",
       "      <th>active</th>\n",
       "      <th>createdDate</th>\n",
       "      <th>lastLogin</th>\n",
       "      <th>role</th>\n",
       "      <th>signUpSource</th>\n",
       "      <th>state</th>\n",
       "    </tr>\n",
       "  </thead>\n",
       "  <tbody>\n",
       "    <tr>\n",
       "      <th>1</th>\n",
       "      <td>5ff1e194b6a9d73a3a9f1052</td>\n",
       "      <td>True</td>\n",
       "      <td>2021-01-03 15:24:04.800000000</td>\n",
       "      <td>2021-01-03 15:25:37.858000128</td>\n",
       "      <td>consumer</td>\n",
       "      <td>Email</td>\n",
       "      <td>WI</td>\n",
       "    </tr>\n",
       "    <tr>\n",
       "      <th>2</th>\n",
       "      <td>5ff1e194b6a9d73a3a9f1052</td>\n",
       "      <td>True</td>\n",
       "      <td>2021-01-03 15:24:04.800000000</td>\n",
       "      <td>2021-01-03 15:25:37.858000128</td>\n",
       "      <td>consumer</td>\n",
       "      <td>Email</td>\n",
       "      <td>WI</td>\n",
       "    </tr>\n",
       "    <tr>\n",
       "      <th>4</th>\n",
       "      <td>5ff1e194b6a9d73a3a9f1052</td>\n",
       "      <td>True</td>\n",
       "      <td>2021-01-03 15:24:04.800000000</td>\n",
       "      <td>2021-01-03 15:25:37.858000128</td>\n",
       "      <td>consumer</td>\n",
       "      <td>Email</td>\n",
       "      <td>WI</td>\n",
       "    </tr>\n",
       "    <tr>\n",
       "      <th>5</th>\n",
       "      <td>5ff1e194b6a9d73a3a9f1052</td>\n",
       "      <td>True</td>\n",
       "      <td>2021-01-03 15:24:04.800000000</td>\n",
       "      <td>2021-01-03 15:25:37.858000128</td>\n",
       "      <td>consumer</td>\n",
       "      <td>Email</td>\n",
       "      <td>WI</td>\n",
       "    </tr>\n",
       "    <tr>\n",
       "      <th>8</th>\n",
       "      <td>5ff1e194b6a9d73a3a9f1052</td>\n",
       "      <td>True</td>\n",
       "      <td>2021-01-03 15:24:04.800000000</td>\n",
       "      <td>2021-01-03 15:25:37.858000128</td>\n",
       "      <td>consumer</td>\n",
       "      <td>Email</td>\n",
       "      <td>WI</td>\n",
       "    </tr>\n",
       "    <tr>\n",
       "      <th>...</th>\n",
       "      <td>...</td>\n",
       "      <td>...</td>\n",
       "      <td>...</td>\n",
       "      <td>...</td>\n",
       "      <td>...</td>\n",
       "      <td>...</td>\n",
       "      <td>...</td>\n",
       "    </tr>\n",
       "    <tr>\n",
       "      <th>490</th>\n",
       "      <td>54943462e4b07e684157a532</td>\n",
       "      <td>True</td>\n",
       "      <td>2014-12-19 14:21:22.380999936</td>\n",
       "      <td>2021-03-05 16:52:23.204000000</td>\n",
       "      <td>fetch-staff</td>\n",
       "      <td>NaN</td>\n",
       "      <td>NaN</td>\n",
       "    </tr>\n",
       "    <tr>\n",
       "      <th>491</th>\n",
       "      <td>54943462e4b07e684157a532</td>\n",
       "      <td>True</td>\n",
       "      <td>2014-12-19 14:21:22.380999936</td>\n",
       "      <td>2021-03-05 16:52:23.204000000</td>\n",
       "      <td>fetch-staff</td>\n",
       "      <td>NaN</td>\n",
       "      <td>NaN</td>\n",
       "    </tr>\n",
       "    <tr>\n",
       "      <th>492</th>\n",
       "      <td>54943462e4b07e684157a532</td>\n",
       "      <td>True</td>\n",
       "      <td>2014-12-19 14:21:22.380999936</td>\n",
       "      <td>2021-03-05 16:52:23.204000000</td>\n",
       "      <td>fetch-staff</td>\n",
       "      <td>NaN</td>\n",
       "      <td>NaN</td>\n",
       "    </tr>\n",
       "    <tr>\n",
       "      <th>493</th>\n",
       "      <td>54943462e4b07e684157a532</td>\n",
       "      <td>True</td>\n",
       "      <td>2014-12-19 14:21:22.380999936</td>\n",
       "      <td>2021-03-05 16:52:23.204000000</td>\n",
       "      <td>fetch-staff</td>\n",
       "      <td>NaN</td>\n",
       "      <td>NaN</td>\n",
       "    </tr>\n",
       "    <tr>\n",
       "      <th>494</th>\n",
       "      <td>54943462e4b07e684157a532</td>\n",
       "      <td>True</td>\n",
       "      <td>2014-12-19 14:21:22.380999936</td>\n",
       "      <td>2021-03-05 16:52:23.204000000</td>\n",
       "      <td>fetch-staff</td>\n",
       "      <td>NaN</td>\n",
       "      <td>NaN</td>\n",
       "    </tr>\n",
       "  </tbody>\n",
       "</table>\n",
       "<p>283 rows × 7 columns</p>\n",
       "</div>"
      ],
      "text/plain": [
       "                         u_id  active                   createdDate  \\\n",
       "1    5ff1e194b6a9d73a3a9f1052    True 2021-01-03 15:24:04.800000000   \n",
       "2    5ff1e194b6a9d73a3a9f1052    True 2021-01-03 15:24:04.800000000   \n",
       "4    5ff1e194b6a9d73a3a9f1052    True 2021-01-03 15:24:04.800000000   \n",
       "5    5ff1e194b6a9d73a3a9f1052    True 2021-01-03 15:24:04.800000000   \n",
       "8    5ff1e194b6a9d73a3a9f1052    True 2021-01-03 15:24:04.800000000   \n",
       "..                        ...     ...                           ...   \n",
       "490  54943462e4b07e684157a532    True 2014-12-19 14:21:22.380999936   \n",
       "491  54943462e4b07e684157a532    True 2014-12-19 14:21:22.380999936   \n",
       "492  54943462e4b07e684157a532    True 2014-12-19 14:21:22.380999936   \n",
       "493  54943462e4b07e684157a532    True 2014-12-19 14:21:22.380999936   \n",
       "494  54943462e4b07e684157a532    True 2014-12-19 14:21:22.380999936   \n",
       "\n",
       "                        lastLogin         role signUpSource state  \n",
       "1   2021-01-03 15:25:37.858000128     consumer        Email    WI  \n",
       "2   2021-01-03 15:25:37.858000128     consumer        Email    WI  \n",
       "4   2021-01-03 15:25:37.858000128     consumer        Email    WI  \n",
       "5   2021-01-03 15:25:37.858000128     consumer        Email    WI  \n",
       "8   2021-01-03 15:25:37.858000128     consumer        Email    WI  \n",
       "..                            ...          ...          ...   ...  \n",
       "490 2021-03-05 16:52:23.204000000  fetch-staff          NaN   NaN  \n",
       "491 2021-03-05 16:52:23.204000000  fetch-staff          NaN   NaN  \n",
       "492 2021-03-05 16:52:23.204000000  fetch-staff          NaN   NaN  \n",
       "493 2021-03-05 16:52:23.204000000  fetch-staff          NaN   NaN  \n",
       "494 2021-03-05 16:52:23.204000000  fetch-staff          NaN   NaN  \n",
       "\n",
       "[283 rows x 7 columns]"
      ]
     },
     "execution_count": 29,
     "metadata": {},
     "output_type": "execute_result"
    }
   ],
   "source": [
    "duplicate_rows"
   ]
  },
  {
   "cell_type": "code",
   "execution_count": null,
   "id": "730791aa",
   "metadata": {},
   "outputs": [],
   "source": []
  },
  {
   "cell_type": "code",
   "execution_count": null,
   "id": "7950abc3",
   "metadata": {},
   "outputs": [],
   "source": []
  },
  {
   "cell_type": "code",
   "execution_count": null,
   "id": "f20d8c63",
   "metadata": {},
   "outputs": [],
   "source": []
  },
  {
   "cell_type": "code",
   "execution_count": null,
   "id": "932f8949",
   "metadata": {},
   "outputs": [],
   "source": []
  },
  {
   "cell_type": "code",
   "execution_count": 31,
   "id": "9c5eccca",
   "metadata": {},
   "outputs": [
    {
     "name": "stderr",
     "output_type": "stream",
     "text": [
      "C:\\Users\\OMKAR\\AppData\\Local\\Temp\\ipykernel_22724\\3190699726.py:1: FutureWarning: Treating datetime data as categorical rather than numeric in `.describe` is deprecated and will be removed in a future version of pandas. Specify `datetime_is_numeric=True` to silence this warning and adopt the future behavior now.\n",
      "  df_users.describe(include='all')\n"
     ]
    },
    {
     "data": {
      "text/html": [
       "<div>\n",
       "<style scoped>\n",
       "    .dataframe tbody tr th:only-of-type {\n",
       "        vertical-align: middle;\n",
       "    }\n",
       "\n",
       "    .dataframe tbody tr th {\n",
       "        vertical-align: top;\n",
       "    }\n",
       "\n",
       "    .dataframe thead th {\n",
       "        text-align: right;\n",
       "    }\n",
       "</style>\n",
       "<table border=\"1\" class=\"dataframe\">\n",
       "  <thead>\n",
       "    <tr style=\"text-align: right;\">\n",
       "      <th></th>\n",
       "      <th>u_id</th>\n",
       "      <th>active</th>\n",
       "      <th>createdDate</th>\n",
       "      <th>lastLogin</th>\n",
       "      <th>role</th>\n",
       "      <th>signUpSource</th>\n",
       "      <th>state</th>\n",
       "    </tr>\n",
       "  </thead>\n",
       "  <tbody>\n",
       "    <tr>\n",
       "      <th>count</th>\n",
       "      <td>495</td>\n",
       "      <td>495</td>\n",
       "      <td>495</td>\n",
       "      <td>433</td>\n",
       "      <td>495</td>\n",
       "      <td>447</td>\n",
       "      <td>439</td>\n",
       "    </tr>\n",
       "    <tr>\n",
       "      <th>unique</th>\n",
       "      <td>212</td>\n",
       "      <td>2</td>\n",
       "      <td>212</td>\n",
       "      <td>172</td>\n",
       "      <td>2</td>\n",
       "      <td>2</td>\n",
       "      <td>8</td>\n",
       "    </tr>\n",
       "    <tr>\n",
       "      <th>top</th>\n",
       "      <td>54943462e4b07e684157a532</td>\n",
       "      <td>True</td>\n",
       "      <td>2014-12-19 14:21:22.380999936</td>\n",
       "      <td>2021-03-05 16:52:23.204000</td>\n",
       "      <td>consumer</td>\n",
       "      <td>Email</td>\n",
       "      <td>WI</td>\n",
       "    </tr>\n",
       "    <tr>\n",
       "      <th>freq</th>\n",
       "      <td>20</td>\n",
       "      <td>494</td>\n",
       "      <td>20</td>\n",
       "      <td>20</td>\n",
       "      <td>413</td>\n",
       "      <td>443</td>\n",
       "      <td>396</td>\n",
       "    </tr>\n",
       "    <tr>\n",
       "      <th>first</th>\n",
       "      <td>NaN</td>\n",
       "      <td>NaN</td>\n",
       "      <td>2014-12-19 14:21:22.380999936</td>\n",
       "      <td>2018-05-07 17:23:40.003000064</td>\n",
       "      <td>NaN</td>\n",
       "      <td>NaN</td>\n",
       "      <td>NaN</td>\n",
       "    </tr>\n",
       "    <tr>\n",
       "      <th>last</th>\n",
       "      <td>NaN</td>\n",
       "      <td>NaN</td>\n",
       "      <td>2021-02-12 14:11:06.240000</td>\n",
       "      <td>2021-03-05 16:52:23.204000</td>\n",
       "      <td>NaN</td>\n",
       "      <td>NaN</td>\n",
       "      <td>NaN</td>\n",
       "    </tr>\n",
       "  </tbody>\n",
       "</table>\n",
       "</div>"
      ],
      "text/plain": [
       "                            u_id active                    createdDate  \\\n",
       "count                        495    495                            495   \n",
       "unique                       212      2                            212   \n",
       "top     54943462e4b07e684157a532   True  2014-12-19 14:21:22.380999936   \n",
       "freq                          20    494                             20   \n",
       "first                        NaN    NaN  2014-12-19 14:21:22.380999936   \n",
       "last                         NaN    NaN     2021-02-12 14:11:06.240000   \n",
       "\n",
       "                            lastLogin      role signUpSource state  \n",
       "count                             433       495          447   439  \n",
       "unique                            172         2            2     8  \n",
       "top        2021-03-05 16:52:23.204000  consumer        Email    WI  \n",
       "freq                               20       413          443   396  \n",
       "first   2018-05-07 17:23:40.003000064       NaN          NaN   NaN  \n",
       "last       2021-03-05 16:52:23.204000       NaN          NaN   NaN  "
      ]
     },
     "execution_count": 31,
     "metadata": {},
     "output_type": "execute_result"
    }
   ],
   "source": [
    "df_users.describe(include='all')"
   ]
  },
  {
   "cell_type": "markdown",
   "id": "0311bc06",
   "metadata": {},
   "source": [
    "Based on the describe function you can say that the u_id is not unique because there are around 212 duplicates. We can Drop them at the end or for visualization"
   ]
  },
  {
   "cell_type": "code",
   "execution_count": null,
   "id": "12d208da",
   "metadata": {},
   "outputs": [],
   "source": []
  },
  {
   "cell_type": "markdown",
   "id": "75f13e21",
   "metadata": {},
   "source": [
    "# Lets drop duplicates for the visualization. Because of duplication we cannot use u_id for the primary key "
   ]
  },
  {
   "cell_type": "code",
   "execution_count": 32,
   "id": "ca3db6d1",
   "metadata": {},
   "outputs": [],
   "source": [
    "# Lets make a shallow copy of it\n",
    "df_users_copy=df_users.copy()"
   ]
  },
  {
   "cell_type": "code",
   "execution_count": 34,
   "id": "2396a753",
   "metadata": {},
   "outputs": [],
   "source": [
    "df_users_copy_wo_duplicates = df_users_copy.drop_duplicates().reset_index(drop=True)\n"
   ]
  },
  {
   "cell_type": "code",
   "execution_count": 35,
   "id": "30f2cc07",
   "metadata": {},
   "outputs": [
    {
     "data": {
      "text/html": [
       "<div>\n",
       "<style scoped>\n",
       "    .dataframe tbody tr th:only-of-type {\n",
       "        vertical-align: middle;\n",
       "    }\n",
       "\n",
       "    .dataframe tbody tr th {\n",
       "        vertical-align: top;\n",
       "    }\n",
       "\n",
       "    .dataframe thead th {\n",
       "        text-align: right;\n",
       "    }\n",
       "</style>\n",
       "<table border=\"1\" class=\"dataframe\">\n",
       "  <thead>\n",
       "    <tr style=\"text-align: right;\">\n",
       "      <th></th>\n",
       "      <th>u_id</th>\n",
       "      <th>active</th>\n",
       "      <th>createdDate</th>\n",
       "      <th>lastLogin</th>\n",
       "      <th>role</th>\n",
       "      <th>signUpSource</th>\n",
       "      <th>state</th>\n",
       "    </tr>\n",
       "  </thead>\n",
       "  <tbody>\n",
       "    <tr>\n",
       "      <th>0</th>\n",
       "      <td>5ff1e194b6a9d73a3a9f1052</td>\n",
       "      <td>True</td>\n",
       "      <td>2021-01-03 15:24:04.800000000</td>\n",
       "      <td>2021-01-03 15:25:37.858000128</td>\n",
       "      <td>consumer</td>\n",
       "      <td>Email</td>\n",
       "      <td>WI</td>\n",
       "    </tr>\n",
       "    <tr>\n",
       "      <th>1</th>\n",
       "      <td>5ff1e1eacfcf6c399c274ae6</td>\n",
       "      <td>True</td>\n",
       "      <td>2021-01-03 15:25:30.553999872</td>\n",
       "      <td>2021-01-03 15:25:30.596999936</td>\n",
       "      <td>consumer</td>\n",
       "      <td>Email</td>\n",
       "      <td>WI</td>\n",
       "    </tr>\n",
       "    <tr>\n",
       "      <th>2</th>\n",
       "      <td>5ff1e1e8cfcf6c399c274ad9</td>\n",
       "      <td>True</td>\n",
       "      <td>2021-01-03 15:25:28.354000128</td>\n",
       "      <td>2021-01-03 15:25:28.392000000</td>\n",
       "      <td>consumer</td>\n",
       "      <td>Email</td>\n",
       "      <td>WI</td>\n",
       "    </tr>\n",
       "    <tr>\n",
       "      <th>3</th>\n",
       "      <td>5ff1e1b7cfcf6c399c274a5a</td>\n",
       "      <td>True</td>\n",
       "      <td>2021-01-03 15:24:39.625999872</td>\n",
       "      <td>2021-01-03 15:24:39.664999936</td>\n",
       "      <td>consumer</td>\n",
       "      <td>Email</td>\n",
       "      <td>WI</td>\n",
       "    </tr>\n",
       "    <tr>\n",
       "      <th>4</th>\n",
       "      <td>5ff1e1f1cfcf6c399c274b0b</td>\n",
       "      <td>True</td>\n",
       "      <td>2021-01-03 15:25:37.564000000</td>\n",
       "      <td>2021-01-03 15:25:37.599000064</td>\n",
       "      <td>consumer</td>\n",
       "      <td>Email</td>\n",
       "      <td>WI</td>\n",
       "    </tr>\n",
       "    <tr>\n",
       "      <th>...</th>\n",
       "      <td>...</td>\n",
       "      <td>...</td>\n",
       "      <td>...</td>\n",
       "      <td>...</td>\n",
       "      <td>...</td>\n",
       "      <td>...</td>\n",
       "      <td>...</td>\n",
       "    </tr>\n",
       "    <tr>\n",
       "      <th>207</th>\n",
       "      <td>5fc961c3b8cfca11a077dd33</td>\n",
       "      <td>True</td>\n",
       "      <td>2020-12-03 22:08:03.936000000</td>\n",
       "      <td>2021-02-26 22:39:16.799000064</td>\n",
       "      <td>fetch-staff</td>\n",
       "      <td>Email</td>\n",
       "      <td>NH</td>\n",
       "    </tr>\n",
       "    <tr>\n",
       "      <th>208</th>\n",
       "      <td>5fa41775898c7a11a6bcef3e</td>\n",
       "      <td>True</td>\n",
       "      <td>2020-11-05 15:17:09.396000000</td>\n",
       "      <td>2021-03-04 16:02:02.026000128</td>\n",
       "      <td>fetch-staff</td>\n",
       "      <td>Email</td>\n",
       "      <td>NaN</td>\n",
       "    </tr>\n",
       "    <tr>\n",
       "      <th>209</th>\n",
       "      <td>5fa32b4d898c7a11a6bcebce</td>\n",
       "      <td>True</td>\n",
       "      <td>2020-11-04 22:29:33.308999936</td>\n",
       "      <td>2021-03-04 07:21:58.046999808</td>\n",
       "      <td>fetch-staff</td>\n",
       "      <td>Google</td>\n",
       "      <td>AL</td>\n",
       "    </tr>\n",
       "    <tr>\n",
       "      <th>210</th>\n",
       "      <td>5964eb07e4b03efd0c0f267b</td>\n",
       "      <td>True</td>\n",
       "      <td>2017-07-11 15:13:11.770999808</td>\n",
       "      <td>2021-03-04 19:07:49.769999872</td>\n",
       "      <td>fetch-staff</td>\n",
       "      <td>NaN</td>\n",
       "      <td>IL</td>\n",
       "    </tr>\n",
       "    <tr>\n",
       "      <th>211</th>\n",
       "      <td>54943462e4b07e684157a532</td>\n",
       "      <td>True</td>\n",
       "      <td>2014-12-19 14:21:22.380999936</td>\n",
       "      <td>2021-03-05 16:52:23.204000000</td>\n",
       "      <td>fetch-staff</td>\n",
       "      <td>NaN</td>\n",
       "      <td>NaN</td>\n",
       "    </tr>\n",
       "  </tbody>\n",
       "</table>\n",
       "<p>212 rows × 7 columns</p>\n",
       "</div>"
      ],
      "text/plain": [
       "                         u_id  active                   createdDate  \\\n",
       "0    5ff1e194b6a9d73a3a9f1052    True 2021-01-03 15:24:04.800000000   \n",
       "1    5ff1e1eacfcf6c399c274ae6    True 2021-01-03 15:25:30.553999872   \n",
       "2    5ff1e1e8cfcf6c399c274ad9    True 2021-01-03 15:25:28.354000128   \n",
       "3    5ff1e1b7cfcf6c399c274a5a    True 2021-01-03 15:24:39.625999872   \n",
       "4    5ff1e1f1cfcf6c399c274b0b    True 2021-01-03 15:25:37.564000000   \n",
       "..                        ...     ...                           ...   \n",
       "207  5fc961c3b8cfca11a077dd33    True 2020-12-03 22:08:03.936000000   \n",
       "208  5fa41775898c7a11a6bcef3e    True 2020-11-05 15:17:09.396000000   \n",
       "209  5fa32b4d898c7a11a6bcebce    True 2020-11-04 22:29:33.308999936   \n",
       "210  5964eb07e4b03efd0c0f267b    True 2017-07-11 15:13:11.770999808   \n",
       "211  54943462e4b07e684157a532    True 2014-12-19 14:21:22.380999936   \n",
       "\n",
       "                        lastLogin         role signUpSource state  \n",
       "0   2021-01-03 15:25:37.858000128     consumer        Email    WI  \n",
       "1   2021-01-03 15:25:30.596999936     consumer        Email    WI  \n",
       "2   2021-01-03 15:25:28.392000000     consumer        Email    WI  \n",
       "3   2021-01-03 15:24:39.664999936     consumer        Email    WI  \n",
       "4   2021-01-03 15:25:37.599000064     consumer        Email    WI  \n",
       "..                            ...          ...          ...   ...  \n",
       "207 2021-02-26 22:39:16.799000064  fetch-staff        Email    NH  \n",
       "208 2021-03-04 16:02:02.026000128  fetch-staff        Email   NaN  \n",
       "209 2021-03-04 07:21:58.046999808  fetch-staff       Google    AL  \n",
       "210 2021-03-04 19:07:49.769999872  fetch-staff          NaN    IL  \n",
       "211 2021-03-05 16:52:23.204000000  fetch-staff          NaN   NaN  \n",
       "\n",
       "[212 rows x 7 columns]"
      ]
     },
     "execution_count": 35,
     "metadata": {},
     "output_type": "execute_result"
    }
   ],
   "source": [
    "df_users_copy_wo_duplicates"
   ]
  },
  {
   "cell_type": "code",
   "execution_count": 36,
   "id": "7cefc515",
   "metadata": {},
   "outputs": [
    {
     "name": "stderr",
     "output_type": "stream",
     "text": [
      "C:\\Users\\OMKAR\\AppData\\Local\\Temp\\ipykernel_22724\\1828588769.py:1: FutureWarning: Treating datetime data as categorical rather than numeric in `.describe` is deprecated and will be removed in a future version of pandas. Specify `datetime_is_numeric=True` to silence this warning and adopt the future behavior now.\n",
      "  df_users_copy_wo_duplicates.describe()\n"
     ]
    },
    {
     "data": {
      "text/html": [
       "<div>\n",
       "<style scoped>\n",
       "    .dataframe tbody tr th:only-of-type {\n",
       "        vertical-align: middle;\n",
       "    }\n",
       "\n",
       "    .dataframe tbody tr th {\n",
       "        vertical-align: top;\n",
       "    }\n",
       "\n",
       "    .dataframe thead th {\n",
       "        text-align: right;\n",
       "    }\n",
       "</style>\n",
       "<table border=\"1\" class=\"dataframe\">\n",
       "  <thead>\n",
       "    <tr style=\"text-align: right;\">\n",
       "      <th></th>\n",
       "      <th>u_id</th>\n",
       "      <th>active</th>\n",
       "      <th>createdDate</th>\n",
       "      <th>lastLogin</th>\n",
       "      <th>role</th>\n",
       "      <th>signUpSource</th>\n",
       "      <th>state</th>\n",
       "    </tr>\n",
       "  </thead>\n",
       "  <tbody>\n",
       "    <tr>\n",
       "      <th>count</th>\n",
       "      <td>212</td>\n",
       "      <td>212</td>\n",
       "      <td>212</td>\n",
       "      <td>172</td>\n",
       "      <td>212</td>\n",
       "      <td>207</td>\n",
       "      <td>206</td>\n",
       "    </tr>\n",
       "    <tr>\n",
       "      <th>unique</th>\n",
       "      <td>212</td>\n",
       "      <td>2</td>\n",
       "      <td>212</td>\n",
       "      <td>172</td>\n",
       "      <td>2</td>\n",
       "      <td>2</td>\n",
       "      <td>8</td>\n",
       "    </tr>\n",
       "    <tr>\n",
       "      <th>top</th>\n",
       "      <td>5ff1e194b6a9d73a3a9f1052</td>\n",
       "      <td>True</td>\n",
       "      <td>2021-01-03 15:24:04.800000</td>\n",
       "      <td>2021-01-03 15:25:37.858000128</td>\n",
       "      <td>consumer</td>\n",
       "      <td>Email</td>\n",
       "      <td>WI</td>\n",
       "    </tr>\n",
       "    <tr>\n",
       "      <th>freq</th>\n",
       "      <td>1</td>\n",
       "      <td>211</td>\n",
       "      <td>1</td>\n",
       "      <td>1</td>\n",
       "      <td>204</td>\n",
       "      <td>204</td>\n",
       "      <td>193</td>\n",
       "    </tr>\n",
       "    <tr>\n",
       "      <th>first</th>\n",
       "      <td>NaN</td>\n",
       "      <td>NaN</td>\n",
       "      <td>2014-12-19 14:21:22.380999936</td>\n",
       "      <td>2018-05-07 17:23:40.003000064</td>\n",
       "      <td>NaN</td>\n",
       "      <td>NaN</td>\n",
       "      <td>NaN</td>\n",
       "    </tr>\n",
       "    <tr>\n",
       "      <th>last</th>\n",
       "      <td>NaN</td>\n",
       "      <td>NaN</td>\n",
       "      <td>2021-02-12 14:11:06.240000</td>\n",
       "      <td>2021-03-05 16:52:23.204000</td>\n",
       "      <td>NaN</td>\n",
       "      <td>NaN</td>\n",
       "      <td>NaN</td>\n",
       "    </tr>\n",
       "  </tbody>\n",
       "</table>\n",
       "</div>"
      ],
      "text/plain": [
       "                            u_id active                    createdDate  \\\n",
       "count                        212    212                            212   \n",
       "unique                       212      2                            212   \n",
       "top     5ff1e194b6a9d73a3a9f1052   True     2021-01-03 15:24:04.800000   \n",
       "freq                           1    211                              1   \n",
       "first                        NaN    NaN  2014-12-19 14:21:22.380999936   \n",
       "last                         NaN    NaN     2021-02-12 14:11:06.240000   \n",
       "\n",
       "                            lastLogin      role signUpSource state  \n",
       "count                             172       212          207   206  \n",
       "unique                            172         2            2     8  \n",
       "top     2021-01-03 15:25:37.858000128  consumer        Email    WI  \n",
       "freq                                1       204          204   193  \n",
       "first   2018-05-07 17:23:40.003000064       NaN          NaN   NaN  \n",
       "last       2021-03-05 16:52:23.204000       NaN          NaN   NaN  "
      ]
     },
     "execution_count": 36,
     "metadata": {},
     "output_type": "execute_result"
    }
   ],
   "source": [
    "df_users_copy_wo_duplicates.describe()"
   ]
  },
  {
   "cell_type": "code",
   "execution_count": 37,
   "id": "b3f753dc",
   "metadata": {},
   "outputs": [
    {
     "data": {
      "text/plain": [
       "Index(['u_id', 'active', 'createdDate', 'lastLogin', 'role', 'signUpSource',\n",
       "       'state'],\n",
       "      dtype='object')"
      ]
     },
     "execution_count": 37,
     "metadata": {},
     "output_type": "execute_result"
    }
   ],
   "source": [
    "df_users_copy_wo_duplicates.columns"
   ]
  },
  {
   "cell_type": "code",
   "execution_count": 38,
   "id": "c47d2641",
   "metadata": {},
   "outputs": [
    {
     "data": {
      "image/png": "[encoded data removed]",
      "text/plain": [
       "<Figure size 600x400 with 1 Axes>"
      ]
     },
     "metadata": {},
     "output_type": "display_data"
    }
   ],
   "source": [
    "import matplotlib.pyplot as plt\n",
    "import seaborn as sns\n",
    "\n",
    "# Assuming 'user_df' is your DataFrame with the user data\n",
    "\n",
    "# Visualize 'active' column\n",
    "plt.figure(figsize=(6, 4))\n",
    "sns.countplot(x='active', data=df_users_copy_wo_duplicates)\n",
    "plt.title('Active Users')\n",
    "plt.ylabel('Number of Users')\n",
    "plt.show()"
   ]
  },
  {
   "cell_type": "code",
   "execution_count": null,
   "id": "21d0907d",
   "metadata": {},
   "outputs": [],
   "source": []
  },
  {
   "cell_type": "code",
   "execution_count": null,
   "id": "658fad3b",
   "metadata": {},
   "outputs": [],
   "source": []
  },
  {
   "cell_type": "code",
   "execution_count": 39,
   "id": "abfda95c",
   "metadata": {},
   "outputs": [
    {
     "data": {
      "image/png": "[encoded data removed]",
      "text/plain": [
       "<Figure size 800x600 with 1 Axes>"
      ]
     },
     "metadata": {},
     "output_type": "display_data"
    }
   ],
   "source": [
    "plt.figure(figsize=(8, 6))\n",
    "sns.countplot(x='role', data=df_users_copy_wo_duplicates)\n",
    "plt.title('User Roles')\n",
    "plt.ylabel('Number of Users')\n",
    "plt.xticks(rotation=45)\n",
    "plt.show()"
   ]
  },
  {
   "cell_type": "code",
   "execution_count": null,
   "id": "6d9990a4",
   "metadata": {},
   "outputs": [],
   "source": []
  },
  {
   "cell_type": "code",
   "execution_count": 40,
   "id": "a502f4c1",
   "metadata": {},
   "outputs": [
    {
     "data": {
      "image/png": "[encoded data removed]",
      "text/plain": [
       "<Figure size 800x600 with 1 Axes>"
      ]
     },
     "metadata": {},
     "output_type": "display_data"
    }
   ],
   "source": [
    "plt.figure(figsize=(8, 6))\n",
    "sns.countplot(x='signUpSource', data=df_users_copy_wo_duplicates)\n",
    "plt.title('Sign-Up Sources')\n",
    "plt.ylabel('Number of Users')\n",
    "plt.xticks(rotation=45)\n",
    "plt.show()"
   ]
  },
  {
   "cell_type": "code",
   "execution_count": null,
   "id": "41fb8986",
   "metadata": {},
   "outputs": [],
   "source": []
  },
  {
   "cell_type": "code",
   "execution_count": 41,
   "id": "e6c38688",
   "metadata": {},
   "outputs": [
    {
     "data": {
      "image/png": "[encoded data removed]",
      "text/plain": [
       "<Figure size 1200x800 with 1 Axes>"
      ]
     },
     "metadata": {},
     "output_type": "display_data"
    }
   ],
   "source": [
    "plt.figure(figsize=(12, 8))\n",
    "sns.countplot(x='state', data=df_users_copy_wo_duplicates, order=df_users_copy_wo_duplicates['state'].value_counts().index)\n",
    "plt.title('Users per State')\n",
    "plt.ylabel('Number of Users')\n",
    "plt.xticks(rotation=90)\n",
    "plt.show()\n"
   ]
  },
  {
   "cell_type": "markdown",
   "id": "39904ea3",
   "metadata": {},
   "source": [
    "# Observation:\n",
    "1) From the active user plot we can say that most of the users are active users which is around 200 plus and only 1 non active user\n",
    "\n",
    "2) From The user roles source graph we can say that mainly the majority are consumer and the other are fetch staff\n",
    "\n",
    "3) From signup source we can say that most of them login through email compared to google\n",
    "\n",
    "4) Ftom the user state we can say most of the users are from Wisconsin"
   ]
  },
  {
   "cell_type": "code",
   "execution_count": null,
   "id": "5e8cae2e",
   "metadata": {},
   "outputs": [],
   "source": []
  },
  {
   "cell_type": "code",
   "execution_count": null,
   "id": "bfd6eaf7",
   "metadata": {},
   "outputs": [],
   "source": []
  },
  {
   "cell_type": "code",
   "execution_count": 42,
   "id": "956a9b73",
   "metadata": {},
   "outputs": [
    {
     "data": {
      "image/png": "[encoded data removed]",
      "text/plain": [
       "<Figure size 1000x600 with 1 Axes>"
      ]
     },
     "metadata": {},
     "output_type": "display_data"
    }
   ],
   "source": [
    "plt.figure(figsize=(10, 6))\n",
    "df_users_copy_wo_duplicates['createdDate'].hist(bins=30)\n",
    "plt.title('User Account Creation Over Time')\n",
    "plt.xlabel('Date')\n",
    "plt.ylabel('Number of Users Created')\n",
    "plt.show()"
   ]
  },
  {
   "cell_type": "code",
   "execution_count": null,
   "id": "42de8b38",
   "metadata": {},
   "outputs": [],
   "source": []
  },
  {
   "cell_type": "code",
   "execution_count": 43,
   "id": "0f8316c8",
   "metadata": {},
   "outputs": [
    {
     "data": {
      "image/png": "[encoded data removed]",
      "text/plain": [
       "<Figure size 1000x600 with 1 Axes>"
      ]
     },
     "metadata": {},
     "output_type": "display_data"
    }
   ],
   "source": [
    "plt.figure(figsize=(10, 6))\n",
    "df_users_copy_wo_duplicates['lastLogin'].hist(bins=30)\n",
    "plt.title('User Last Login Over Time')\n",
    "plt.xlabel('Date')\n",
    "plt.ylabel('Number of Users Logged In')\n",
    "plt.show()"
   ]
  },
  {
   "cell_type": "code",
   "execution_count": null,
   "id": "3334e967",
   "metadata": {},
   "outputs": [],
   "source": []
  },
  {
   "cell_type": "markdown",
   "id": "3b25059c",
   "metadata": {},
   "source": [
    "# Observation:\n",
    "\n",
    "1) We can say from the created date graph that most of users created is in the year 2021 and month january\n",
    "\n",
    "2) As most users are created in the 2021-01. The most use of it is done in 2021-01 "
   ]
  },
  {
   "cell_type": "code",
   "execution_count": null,
   "id": "589723ef",
   "metadata": {},
   "outputs": [],
   "source": []
  },
  {
   "cell_type": "code",
   "execution_count": 45,
   "id": "2c909bc9",
   "metadata": {},
   "outputs": [
    {
     "data": {
      "text/plain": [
       "u_id             0\n",
       "active           0\n",
       "createdDate      0\n",
       "lastLogin       40\n",
       "role             0\n",
       "signUpSource     5\n",
       "state            6\n",
       "dtype: int64"
      ]
     },
     "execution_count": 45,
     "metadata": {},
     "output_type": "execute_result"
    }
   ],
   "source": [
    "df_users_copy_wo_duplicates.isna().sum()"
   ]
  },
  {
   "cell_type": "code",
   "execution_count": 46,
   "id": "41afff3c",
   "metadata": {},
   "outputs": [
    {
     "name": "stderr",
     "output_type": "stream",
     "text": [
      "C:\\Users\\OMKAR\\AppData\\Local\\Temp\\ipykernel_22724\\1828588769.py:1: FutureWarning: Treating datetime data as categorical rather than numeric in `.describe` is deprecated and will be removed in a future version of pandas. Specify `datetime_is_numeric=True` to silence this warning and adopt the future behavior now.\n",
      "  df_users_copy_wo_duplicates.describe()\n"
     ]
    },
    {
     "data": {
      "text/html": [
       "<div>\n",
       "<style scoped>\n",
       "    .dataframe tbody tr th:only-of-type {\n",
       "        vertical-align: middle;\n",
       "    }\n",
       "\n",
       "    .dataframe tbody tr th {\n",
       "        vertical-align: top;\n",
       "    }\n",
       "\n",
       "    .dataframe thead th {\n",
       "        text-align: right;\n",
       "    }\n",
       "</style>\n",
       "<table border=\"1\" class=\"dataframe\">\n",
       "  <thead>\n",
       "    <tr style=\"text-align: right;\">\n",
       "      <th></th>\n",
       "      <th>u_id</th>\n",
       "      <th>active</th>\n",
       "      <th>createdDate</th>\n",
       "      <th>lastLogin</th>\n",
       "      <th>role</th>\n",
       "      <th>signUpSource</th>\n",
       "      <th>state</th>\n",
       "    </tr>\n",
       "  </thead>\n",
       "  <tbody>\n",
       "    <tr>\n",
       "      <th>count</th>\n",
       "      <td>212</td>\n",
       "      <td>212</td>\n",
       "      <td>212</td>\n",
       "      <td>172</td>\n",
       "      <td>212</td>\n",
       "      <td>207</td>\n",
       "      <td>206</td>\n",
       "    </tr>\n",
       "    <tr>\n",
       "      <th>unique</th>\n",
       "      <td>212</td>\n",
       "      <td>2</td>\n",
       "      <td>212</td>\n",
       "      <td>172</td>\n",
       "      <td>2</td>\n",
       "      <td>2</td>\n",
       "      <td>8</td>\n",
       "    </tr>\n",
       "    <tr>\n",
       "      <th>top</th>\n",
       "      <td>5ff1e194b6a9d73a3a9f1052</td>\n",
       "      <td>True</td>\n",
       "      <td>2021-01-03 15:24:04.800000</td>\n",
       "      <td>2021-01-03 15:25:37.858000128</td>\n",
       "      <td>consumer</td>\n",
       "      <td>Email</td>\n",
       "      <td>WI</td>\n",
       "    </tr>\n",
       "    <tr>\n",
       "      <th>freq</th>\n",
       "      <td>1</td>\n",
       "      <td>211</td>\n",
       "      <td>1</td>\n",
       "      <td>1</td>\n",
       "      <td>204</td>\n",
       "      <td>204</td>\n",
       "      <td>193</td>\n",
       "    </tr>\n",
       "    <tr>\n",
       "      <th>first</th>\n",
       "      <td>NaN</td>\n",
       "      <td>NaN</td>\n",
       "      <td>2014-12-19 14:21:22.380999936</td>\n",
       "      <td>2018-05-07 17:23:40.003000064</td>\n",
       "      <td>NaN</td>\n",
       "      <td>NaN</td>\n",
       "      <td>NaN</td>\n",
       "    </tr>\n",
       "    <tr>\n",
       "      <th>last</th>\n",
       "      <td>NaN</td>\n",
       "      <td>NaN</td>\n",
       "      <td>2021-02-12 14:11:06.240000</td>\n",
       "      <td>2021-03-05 16:52:23.204000</td>\n",
       "      <td>NaN</td>\n",
       "      <td>NaN</td>\n",
       "      <td>NaN</td>\n",
       "    </tr>\n",
       "  </tbody>\n",
       "</table>\n",
       "</div>"
      ],
      "text/plain": [
       "                            u_id active                    createdDate  \\\n",
       "count                        212    212                            212   \n",
       "unique                       212      2                            212   \n",
       "top     5ff1e194b6a9d73a3a9f1052   True     2021-01-03 15:24:04.800000   \n",
       "freq                           1    211                              1   \n",
       "first                        NaN    NaN  2014-12-19 14:21:22.380999936   \n",
       "last                         NaN    NaN     2021-02-12 14:11:06.240000   \n",
       "\n",
       "                            lastLogin      role signUpSource state  \n",
       "count                             172       212          207   206  \n",
       "unique                            172         2            2     8  \n",
       "top     2021-01-03 15:25:37.858000128  consumer        Email    WI  \n",
       "freq                                1       204          204   193  \n",
       "first   2018-05-07 17:23:40.003000064       NaN          NaN   NaN  \n",
       "last       2021-03-05 16:52:23.204000       NaN          NaN   NaN  "
      ]
     },
     "execution_count": 46,
     "metadata": {},
     "output_type": "execute_result"
    }
   ],
   "source": [
    "df_users_copy_wo_duplicates.describe()"
   ]
  },
  {
   "cell_type": "code",
   "execution_count": null,
   "id": "3c532da2",
   "metadata": {},
   "outputs": [],
   "source": []
  },
  {
   "cell_type": "code",
   "execution_count": null,
   "id": "b6c3d312",
   "metadata": {},
   "outputs": [],
   "source": []
  },
  {
   "cell_type": "markdown",
   "id": "df4da98c",
   "metadata": {},
   "source": [
    "# Get the PreProcessed Data in CSV and JSON format "
   ]
  },
  {
   "cell_type": "code",
   "execution_count": 47,
   "id": "708c021c",
   "metadata": {},
   "outputs": [],
   "source": [
    "df_users_copy_wo_duplicates.to_csv('UserData_Preprocessed.csv', index=False) "
   ]
  },
  {
   "cell_type": "code",
   "execution_count": 48,
   "id": "db9b6231",
   "metadata": {},
   "outputs": [],
   "source": [
    "df_users_copy_wo_duplicates.to_json('UserData_Preprocessed.json', orient='records', lines=True)"
   ]
  },
  {
   "cell_type": "code",
   "execution_count": null,
   "id": "0bdf0bdb",
   "metadata": {},
   "outputs": [],
   "source": []
  }
 ],
 "metadata": {
  "kernelspec": {
   "display_name": "Python 3 (ipykernel)",
   "language": "python",
   "name": "python3"
  },
  "language_info": {
   "codemirror_mode": {
    "name": "ipython",
    "version": 3
   },
   "file_extension": ".py",
   "mimetype": "text/x-python",
   "name": "python",
   "nbconvert_exporter": "python",
   "pygments_lexer": "ipython3",
   "version": "3.9.7"
  }
 },
 "nbformat": 4,
 "nbformat_minor": 5
}
